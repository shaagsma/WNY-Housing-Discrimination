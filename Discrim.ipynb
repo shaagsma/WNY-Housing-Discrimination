{
 "cells": [
  {
   "cell_type": "markdown",
   "metadata": {},
   "source": [
    "# Analysis of HOME housing discrimination cases since August, 2003"
   ]
  },
  {
   "cell_type": "code",
   "execution_count": 175,
   "metadata": {},
   "outputs": [],
   "source": [
    "import pandas as pd\n",
    "import numpy as np\n",
    "import matplotlib.pyplot as plt\n",
    "%matplotlib inline"
   ]
  },
  {
   "cell_type": "code",
   "execution_count": 176,
   "metadata": {},
   "outputs": [],
   "source": [
    "discrim = pd.read_csv('discrim_zips.csv')"
   ]
  },
  {
   "cell_type": "code",
   "execution_count": 177,
   "metadata": {},
   "outputs": [
    {
     "data": {
      "text/html": [
       "<div>\n",
       "<style scoped>\n",
       "    .dataframe tbody tr th:only-of-type {\n",
       "        vertical-align: middle;\n",
       "    }\n",
       "\n",
       "    .dataframe tbody tr th {\n",
       "        vertical-align: top;\n",
       "    }\n",
       "\n",
       "    .dataframe thead th {\n",
       "        text-align: right;\n",
       "    }\n",
       "</style>\n",
       "<table border=\"1\" class=\"dataframe\">\n",
       "  <thead>\n",
       "    <tr style=\"text-align: right;\">\n",
       "      <th></th>\n",
       "      <th>IntakeID</th>\n",
       "      <th>PropZip</th>\n",
       "      <th>ProtectedBasis</th>\n",
       "      <th>Date</th>\n",
       "      <th>Zip</th>\n",
       "    </tr>\n",
       "  </thead>\n",
       "  <tbody>\n",
       "    <tr>\n",
       "      <th>0</th>\n",
       "      <td>249</td>\n",
       "      <td>14213</td>\n",
       "      <td>National Origin</td>\n",
       "      <td>11-Aug-03</td>\n",
       "      <td>14202</td>\n",
       "    </tr>\n",
       "    <tr>\n",
       "      <th>1</th>\n",
       "      <td>312</td>\n",
       "      <td>14211</td>\n",
       "      <td>Familial Status</td>\n",
       "      <td>11-Aug-03</td>\n",
       "      <td>14225</td>\n",
       "    </tr>\n",
       "    <tr>\n",
       "      <th>2</th>\n",
       "      <td>324</td>\n",
       "      <td>14220</td>\n",
       "      <td>Race</td>\n",
       "      <td>11-Aug-03</td>\n",
       "      <td>14220</td>\n",
       "    </tr>\n",
       "    <tr>\n",
       "      <th>3</th>\n",
       "      <td>324</td>\n",
       "      <td>14220</td>\n",
       "      <td>Color</td>\n",
       "      <td>11-Aug-03</td>\n",
       "      <td>14220</td>\n",
       "    </tr>\n",
       "    <tr>\n",
       "      <th>4</th>\n",
       "      <td>348</td>\n",
       "      <td>14225</td>\n",
       "      <td>Disability</td>\n",
       "      <td>14-Aug-03</td>\n",
       "      <td>14225</td>\n",
       "    </tr>\n",
       "  </tbody>\n",
       "</table>\n",
       "</div>"
      ],
      "text/plain": [
       "   IntakeID  PropZip   ProtectedBasis       Date    Zip\n",
       "0       249    14213  National Origin  11-Aug-03  14202\n",
       "1       312    14211  Familial Status  11-Aug-03  14225\n",
       "2       324    14220             Race  11-Aug-03  14220\n",
       "3       324    14220            Color  11-Aug-03  14220\n",
       "4       348    14225       Disability  14-Aug-03  14225"
      ]
     },
     "execution_count": 177,
     "metadata": {},
     "output_type": "execute_result"
    }
   ],
   "source": [
    "discrim.head()"
   ]
  },
  {
   "cell_type": "code",
   "execution_count": 178,
   "metadata": {},
   "outputs": [],
   "source": [
    "discrim['Date'] = pd.to_datetime(discrim['Date'])"
   ]
  },
  {
   "cell_type": "code",
   "execution_count": 179,
   "metadata": {},
   "outputs": [
    {
     "data": {
      "text/html": [
       "<div>\n",
       "<style scoped>\n",
       "    .dataframe tbody tr th:only-of-type {\n",
       "        vertical-align: middle;\n",
       "    }\n",
       "\n",
       "    .dataframe tbody tr th {\n",
       "        vertical-align: top;\n",
       "    }\n",
       "\n",
       "    .dataframe thead th {\n",
       "        text-align: right;\n",
       "    }\n",
       "</style>\n",
       "<table border=\"1\" class=\"dataframe\">\n",
       "  <thead>\n",
       "    <tr style=\"text-align: right;\">\n",
       "      <th></th>\n",
       "      <th>IntakeID</th>\n",
       "      <th>PropZip</th>\n",
       "      <th>ProtectedBasis</th>\n",
       "      <th>Date</th>\n",
       "      <th>Zip</th>\n",
       "    </tr>\n",
       "  </thead>\n",
       "  <tbody>\n",
       "    <tr>\n",
       "      <th>0</th>\n",
       "      <td>249</td>\n",
       "      <td>14213</td>\n",
       "      <td>National Origin</td>\n",
       "      <td>2003-08-11</td>\n",
       "      <td>14202</td>\n",
       "    </tr>\n",
       "    <tr>\n",
       "      <th>1</th>\n",
       "      <td>312</td>\n",
       "      <td>14211</td>\n",
       "      <td>Familial Status</td>\n",
       "      <td>2003-08-11</td>\n",
       "      <td>14225</td>\n",
       "    </tr>\n",
       "    <tr>\n",
       "      <th>2</th>\n",
       "      <td>324</td>\n",
       "      <td>14220</td>\n",
       "      <td>Race</td>\n",
       "      <td>2003-08-11</td>\n",
       "      <td>14220</td>\n",
       "    </tr>\n",
       "    <tr>\n",
       "      <th>3</th>\n",
       "      <td>324</td>\n",
       "      <td>14220</td>\n",
       "      <td>Color</td>\n",
       "      <td>2003-08-11</td>\n",
       "      <td>14220</td>\n",
       "    </tr>\n",
       "    <tr>\n",
       "      <th>4</th>\n",
       "      <td>348</td>\n",
       "      <td>14225</td>\n",
       "      <td>Disability</td>\n",
       "      <td>2003-08-14</td>\n",
       "      <td>14225</td>\n",
       "    </tr>\n",
       "  </tbody>\n",
       "</table>\n",
       "</div>"
      ],
      "text/plain": [
       "   IntakeID  PropZip   ProtectedBasis       Date    Zip\n",
       "0       249    14213  National Origin 2003-08-11  14202\n",
       "1       312    14211  Familial Status 2003-08-11  14225\n",
       "2       324    14220             Race 2003-08-11  14220\n",
       "3       324    14220            Color 2003-08-11  14220\n",
       "4       348    14225       Disability 2003-08-14  14225"
      ]
     },
     "execution_count": 179,
     "metadata": {},
     "output_type": "execute_result"
    }
   ],
   "source": [
    "discrim.head()"
   ]
  },
  {
   "cell_type": "code",
   "execution_count": 180,
   "metadata": {},
   "outputs": [
    {
     "name": "stdout",
     "output_type": "stream",
     "text": [
      "<class 'pandas.core.frame.DataFrame'>\n",
      "RangeIndex: 3966 entries, 0 to 3965\n",
      "Data columns (total 5 columns):\n",
      "IntakeID          3966 non-null int64\n",
      "PropZip           3966 non-null int64\n",
      "ProtectedBasis    3931 non-null object\n",
      "Date              3965 non-null datetime64[ns]\n",
      "Zip               3966 non-null int64\n",
      "dtypes: datetime64[ns](1), int64(3), object(1)\n",
      "memory usage: 155.0+ KB\n"
     ]
    }
   ],
   "source": [
    "discrim.info()"
   ]
  },
  {
   "cell_type": "code",
   "execution_count": 181,
   "metadata": {},
   "outputs": [],
   "source": [
    "discrim.rename({'IntakeID': 'intake', 'PropZip': 'prop_zip', 'ProtectedBasis': 'basis', 'Date': 'date', 'Zip': 'zip'}, axis = 1, inplace=True)"
   ]
  },
  {
   "cell_type": "code",
   "execution_count": 182,
   "metadata": {},
   "outputs": [
    {
     "name": "stdout",
     "output_type": "stream",
     "text": [
      "<class 'pandas.core.frame.DataFrame'>\n",
      "RangeIndex: 3966 entries, 0 to 3965\n",
      "Data columns (total 5 columns):\n",
      "intake      3966 non-null int64\n",
      "prop_zip    3966 non-null int64\n",
      "basis       3931 non-null object\n",
      "date        3965 non-null datetime64[ns]\n",
      "zip         3966 non-null int64\n",
      "dtypes: datetime64[ns](1), int64(3), object(1)\n",
      "memory usage: 155.0+ KB\n"
     ]
    }
   ],
   "source": [
    "discrim.info()"
   ]
  },
  {
   "cell_type": "code",
   "execution_count": 183,
   "metadata": {},
   "outputs": [],
   "source": [
    "discrim['basis'] = discrim['basis'].map({'Disability': 'dis', 'National Origin': 'no', 'Religion': 'rel', 'Sexual Orientation': 'so',\n",
    "                     'Color': 'col', 'Race': 'race', 'Marital Status': 'ms', 'Age': 'age', 'Familial Status': 'fs',\n",
    "                      'Source of Income': 'soi', 'Sex': 'sex', 'Other': 'oth', 'Gender ID and Expression': 'gie',\n",
    "                      'Military Status': 'mil'\n",
    "                     })"
   ]
  },
  {
   "cell_type": "code",
   "execution_count": 184,
   "metadata": {},
   "outputs": [
    {
     "data": {
      "text/plain": [
       "array(['no', 'fs', 'race', 'col', 'dis', 'soi', 'age', 'ms', 'sex', 'oth',\n",
       "       'so', nan, 'rel', 'gie', 'mil'], dtype=object)"
      ]
     },
     "execution_count": 184,
     "metadata": {},
     "output_type": "execute_result"
    }
   ],
   "source": [
    "discrim['basis'].unique()"
   ]
  },
  {
   "cell_type": "code",
   "execution_count": 185,
   "metadata": {},
   "outputs": [],
   "source": [
    "discrim.dropna(inplace=True)"
   ]
  },
  {
   "cell_type": "code",
   "execution_count": 186,
   "metadata": {},
   "outputs": [
    {
     "name": "stdout",
     "output_type": "stream",
     "text": [
      "<class 'pandas.core.frame.DataFrame'>\n",
      "Int64Index: 3930 entries, 0 to 3965\n",
      "Data columns (total 5 columns):\n",
      "intake      3930 non-null int64\n",
      "prop_zip    3930 non-null int64\n",
      "basis       3930 non-null object\n",
      "date        3930 non-null datetime64[ns]\n",
      "zip         3930 non-null int64\n",
      "dtypes: datetime64[ns](1), int64(3), object(1)\n",
      "memory usage: 184.2+ KB\n"
     ]
    }
   ],
   "source": [
    "discrim.info()"
   ]
  },
  {
   "cell_type": "code",
   "execution_count": 187,
   "metadata": {},
   "outputs": [
    {
     "data": {
      "text/plain": [
       "(2473,)"
      ]
     },
     "execution_count": 187,
     "metadata": {},
     "output_type": "execute_result"
    }
   ],
   "source": [
    "discrim['intake'].unique().shape"
   ]
  },
  {
   "cell_type": "code",
   "execution_count": 188,
   "metadata": {},
   "outputs": [],
   "source": [
    "# Keep date column but add separate columns for month and year\n",
    "discrim['year'] = discrim['date'].dt.year\n",
    "discrim['month'] = discrim['date'].dt.month"
   ]
  },
  {
   "cell_type": "code",
   "execution_count": 189,
   "metadata": {},
   "outputs": [],
   "source": [
    "soi = discrim.loc[discrim['basis'] == 'soi',:]"
   ]
  },
  {
   "cell_type": "code",
   "execution_count": 190,
   "metadata": {},
   "outputs": [
    {
     "name": "stdout",
     "output_type": "stream",
     "text": [
      "<class 'pandas.core.frame.DataFrame'>\n",
      "Int64Index: 767 entries, 6 to 3965\n",
      "Data columns (total 7 columns):\n",
      "intake      767 non-null int64\n",
      "prop_zip    767 non-null int64\n",
      "basis       767 non-null object\n",
      "date        767 non-null datetime64[ns]\n",
      "zip         767 non-null int64\n",
      "year        767 non-null int64\n",
      "month       767 non-null int64\n",
      "dtypes: datetime64[ns](1), int64(5), object(1)\n",
      "memory usage: 47.9+ KB\n"
     ]
    }
   ],
   "source": [
    "soi.info()"
   ]
  },
  {
   "cell_type": "code",
   "execution_count": 191,
   "metadata": {},
   "outputs": [
    {
     "name": "stdout",
     "output_type": "stream",
     "text": [
      "<class 'pandas.core.frame.DataFrame'>\n",
      "Int64Index: 607 entries, 2 to 3951\n",
      "Data columns (total 7 columns):\n",
      "intake      607 non-null int64\n",
      "prop_zip    607 non-null int64\n",
      "basis       607 non-null object\n",
      "date        607 non-null datetime64[ns]\n",
      "zip         607 non-null int64\n",
      "year        607 non-null int64\n",
      "month       607 non-null int64\n",
      "dtypes: datetime64[ns](1), int64(5), object(1)\n",
      "memory usage: 37.9+ KB\n"
     ]
    }
   ],
   "source": [
    "race = discrim.loc[discrim['basis'] == 'race',:]\n",
    "race.info()"
   ]
  },
  {
   "cell_type": "code",
   "execution_count": 192,
   "metadata": {},
   "outputs": [
    {
     "name": "stdout",
     "output_type": "stream",
     "text": [
      "<class 'pandas.core.frame.DataFrame'>\n",
      "Int64Index: 602 entries, 4 to 3964\n",
      "Data columns (total 7 columns):\n",
      "intake      602 non-null int64\n",
      "prop_zip    602 non-null int64\n",
      "basis       602 non-null object\n",
      "date        602 non-null datetime64[ns]\n",
      "zip         602 non-null int64\n",
      "year        602 non-null int64\n",
      "month       602 non-null int64\n",
      "dtypes: datetime64[ns](1), int64(5), object(1)\n",
      "memory usage: 37.6+ KB\n"
     ]
    }
   ],
   "source": [
    "dis = discrim.loc[discrim['basis'] == 'dis',:]\n",
    "dis.info()"
   ]
  },
  {
   "cell_type": "code",
   "execution_count": 193,
   "metadata": {},
   "outputs": [
    {
     "name": "stdout",
     "output_type": "stream",
     "text": [
      "<class 'pandas.core.frame.DataFrame'>\n",
      "Int64Index: 683 entries, 1 to 3962\n",
      "Data columns (total 7 columns):\n",
      "intake      683 non-null int64\n",
      "prop_zip    683 non-null int64\n",
      "basis       683 non-null object\n",
      "date        683 non-null datetime64[ns]\n",
      "zip         683 non-null int64\n",
      "year        683 non-null int64\n",
      "month       683 non-null int64\n",
      "dtypes: datetime64[ns](1), int64(5), object(1)\n",
      "memory usage: 42.7+ KB\n"
     ]
    }
   ],
   "source": [
    "fs = discrim.loc[discrim['basis'] == 'fs',:]\n",
    "fs.info()"
   ]
  },
  {
   "cell_type": "code",
   "execution_count": 194,
   "metadata": {},
   "outputs": [],
   "source": [
    "unique_discrim = discrim.drop_duplicates('intake')"
   ]
  },
  {
   "cell_type": "code",
   "execution_count": 195,
   "metadata": {},
   "outputs": [
    {
     "name": "stdout",
     "output_type": "stream",
     "text": [
      "<class 'pandas.core.frame.DataFrame'>\n",
      "Int64Index: 2473 entries, 0 to 3965\n",
      "Data columns (total 7 columns):\n",
      "intake      2473 non-null int64\n",
      "prop_zip    2473 non-null int64\n",
      "basis       2473 non-null object\n",
      "date        2473 non-null datetime64[ns]\n",
      "zip         2473 non-null int64\n",
      "year        2473 non-null int64\n",
      "month       2473 non-null int64\n",
      "dtypes: datetime64[ns](1), int64(5), object(1)\n",
      "memory usage: 154.6+ KB\n"
     ]
    }
   ],
   "source": [
    "unique_discrim.info()"
   ]
  },
  {
   "cell_type": "markdown",
   "metadata": {},
   "source": [
    "# Data setup\n",
    "\n",
    "The data comes from HOME's intake database, which begins on August 11, 2003. This dataset contains all of the discrimination intakes between then and June 8, 2020. It contains 3930 entries, which represent 2473 unique reports of discrimination. Unique intakes only are contained in the `unique_discrim` dataframe, which should be used only for total discrimination cases in a zip code, not for discrimination bases.\n",
    "\n",
    "So far, I have read in the csv file into a dataframe called `discrim`, which contains 5 columns:\n",
    "- `intake`, which is the unique intake number for each discrim case\n",
    "    - each entry is not a unique intake, as some intakes have more than one basis, and therefore take up more than one entry\n",
    "- `prop_zip`, which is the ZIP code of the property at which the discrimination occurred\n",
    "- `basis`, the basis of discrimination, which is one of the protected classes\n",
    "- `date`, the date on which the intake was recorded\n",
    "- `zip`, the ZIP code associated with the client for the intake\n",
    "    - this could be faulty, as the client may have moved since the original discrim intake, and it may be a HOME v. case\n",
    "    \n",
    "## Subsets of `discrim` dataframe\n",
    "\n",
    "I created a subset of the dataframe for each of the four most common discrimination bases: **Source of Income** (`soi`), **Race/Color** (`race`), **Disability** (`dis`), and **Familial Status** (`fs`). These subsets each have only a single intake associated with each entry. They have the following number of intakes:\n",
    "- `soi`: 767 incidents\n",
    "- `race`: 607 incidents\n",
    "- `dis`: 602 incidents\n",
    "- `fs`: 683 incidents"
   ]
  },
  {
   "cell_type": "code",
   "execution_count": 196,
   "metadata": {},
   "outputs": [],
   "source": [
    "# Preliminary exploration\n",
    "soi_zips = soi['prop_zip'].value_counts()\n",
    "fs_zips = fs['prop_zip'].value_counts()\n",
    "dis_zips = dis['prop_zip'].value_counts()\n",
    "race_zips = race['prop_zip'].value_counts()\n",
    "ovr_zips = unique_discrim['prop_zip'].value_counts()"
   ]
  },
  {
   "cell_type": "code",
   "execution_count": 197,
   "metadata": {},
   "outputs": [
    {
     "name": "stdout",
     "output_type": "stream",
     "text": [
      "14215    105\n",
      "14216     69\n",
      "14211     55\n",
      "14214     51\n",
      "14213     45\n",
      "14207     43\n",
      "14220     31\n",
      "14225     31\n",
      "14212     30\n",
      "14206     29\n",
      "Name: prop_zip, dtype: int64\n",
      "14209    134\n",
      "14215     92\n",
      "14202     70\n",
      "14211     50\n",
      "14213     33\n",
      "14207     33\n",
      "14208     32\n",
      "14206     27\n",
      "14214     24\n",
      "14212     23\n",
      "Name: zip, dtype: int64\n"
     ]
    }
   ],
   "source": [
    "top_soi = soi_zips.head(10)\n",
    "top_soi_source = soi['zip'].value_counts().head(10)\n",
    "print(top_soi)\n",
    "print(top_soi_source)"
   ]
  },
  {
   "cell_type": "code",
   "execution_count": 198,
   "metadata": {},
   "outputs": [
    {
     "name": "stdout",
     "output_type": "stream",
     "text": [
      "14215    82\n",
      "14214    62\n",
      "14216    57\n",
      "14213    47\n",
      "14207    33\n",
      "14226    31\n",
      "14222    25\n",
      "14211    24\n",
      "14208    22\n",
      "14217    20\n",
      "Name: prop_zip, dtype: int64\n",
      "14202    166\n",
      "14209    153\n",
      "14215     45\n",
      "14211     40\n",
      "14213     23\n",
      "14214     20\n",
      "14207     19\n",
      "14216     17\n",
      "14120     14\n",
      "14208     12\n",
      "Name: zip, dtype: int64\n"
     ]
    }
   ],
   "source": [
    "top_fs = fs_zips.head(10)\n",
    "top_fs_source = fs['zip'].value_counts().head(10)\n",
    "print(top_fs)\n",
    "print(top_fs_source)"
   ]
  },
  {
   "cell_type": "code",
   "execution_count": 199,
   "metadata": {},
   "outputs": [
    {
     "name": "stdout",
     "output_type": "stream",
     "text": [
      "14207    31\n",
      "14075    27\n",
      "14201    27\n",
      "14215    26\n",
      "14222    26\n",
      "14211    23\n",
      "14228    23\n",
      "14213    23\n",
      "14226    21\n",
      "14225    20\n",
      "Name: prop_zip, dtype: int64\n",
      "14209    67\n",
      "14215    30\n",
      "14201    27\n",
      "14207    26\n",
      "14222    21\n",
      "14228    21\n",
      "14213    21\n",
      "14075    20\n",
      "14211    19\n",
      "14202    18\n",
      "Name: zip, dtype: int64\n"
     ]
    }
   ],
   "source": [
    "top_dis = dis_zips.head(10)\n",
    "top_dis_source = dis['zip'].value_counts().head(10)\n",
    "print(top_dis)\n",
    "print(top_dis_source)"
   ]
  },
  {
   "cell_type": "code",
   "execution_count": 200,
   "metadata": {},
   "outputs": [
    {
     "name": "stdout",
     "output_type": "stream",
     "text": [
      "14216    48\n",
      "14215    44\n",
      "14207    31\n",
      "14206    29\n",
      "14228    27\n",
      "14214    26\n",
      "14225    23\n",
      "14222    23\n",
      "14221    22\n",
      "14201    21\n",
      "Name: prop_zip, dtype: int64\n",
      "14215    70\n",
      "14202    43\n",
      "14209    42\n",
      "14211    32\n",
      "14207    28\n",
      "14213    28\n",
      "14216    27\n",
      "14214    25\n",
      "14201    20\n",
      "14222    20\n",
      "Name: zip, dtype: int64\n"
     ]
    }
   ],
   "source": [
    "top_race = race_zips.head(10)\n",
    "top_race_source = race['zip'].value_counts().head(10)\n",
    "print(top_race)\n",
    "print(top_race_source)"
   ]
  },
  {
   "cell_type": "code",
   "execution_count": 201,
   "metadata": {},
   "outputs": [
    {
     "name": "stdout",
     "output_type": "stream",
     "text": [
      "14215    230\n",
      "14216    168\n",
      "14214    144\n",
      "14213    132\n",
      "14207    124\n",
      "14211    106\n",
      "14222     90\n",
      "14201     89\n",
      "14226     78\n",
      "14228     76\n",
      "Name: prop_zip, dtype: int64\n",
      "14209    346\n",
      "14202    286\n",
      "14215    215\n",
      "14211    121\n",
      "14207     99\n",
      "14213     96\n",
      "14214     80\n",
      "14216     69\n",
      "14201     67\n",
      "14208     64\n",
      "Name: zip, dtype: int64\n"
     ]
    }
   ],
   "source": [
    "top_discrim = ovr_zips.head(10)\n",
    "top_discrim_source = unique_discrim['zip'].value_counts().head(10)\n",
    "print(top_discrim)\n",
    "print(top_discrim_source)"
   ]
  },
  {
   "cell_type": "code",
   "execution_count": 202,
   "metadata": {},
   "outputs": [
    {
     "data": {
      "image/png": "[encoded data removed]",
      "text/plain": [
       "<Figure size 432x288 with 1 Axes>"
      ]
     },
     "metadata": {
      "needs_background": "light"
     },
     "output_type": "display_data"
    }
   ],
   "source": [
    "# Box plots of ZIP counts\n",
    "home_blue = (1/255,33/255,105/255)\n",
    "zips_types = [ovr_zips, soi_zips, fs_zips, dis_zips, race_zips]\n",
    "zips_labels = [\"Overall\", 'SOI', 'FS', 'Disability', 'Race']\n",
    "fig, ax = plt.subplots()\n",
    "ax.boxplot(zips_types, patch_artist=True, boxprops=dict(facecolor=home_blue), medianprops=dict(color='white'))\n",
    "ax.set_xticklabels(zips_labels)\n",
    "for key,spine in ax.spines.items():\n",
    "    spine.set_visible(False)\n",
    "ax.tick_params(bottom=False, top=False, left=False, right=False)\n",
    "plt.show()"
   ]
  },
  {
   "cell_type": "markdown",
   "metadata": {},
   "source": [
    "# Overview of most common ZIP codes for discrimination complaints, 2003-2020\n",
    "\n",
    "|Overall|SOI|Disability|Race|Familial Status|\n",
    "|:---:|:---:|:---:|:---:|:---:|\n",
    "|14215|14215|14207|14216|14215|\n",
    "|14216|14216|14075|14215|14214|\n",
    "|14214|14211|14201|14207|14216|\n",
    "|14213|14214|14215|14206|14213|\n",
    "|14207|14213|14222|14228|14207|\n",
    "|14211|14207|14211|14214|14226|\n",
    "|14222|14220|14228|14225|14222|\n",
    "|14201|14225|14213|14222|14211|\n",
    "|14226|14212|14226|14221|14208|\n",
    "|14228|14206|14225|14201|14217|\n",
    "\n",
    "**Observations of note:**\n",
    "- 14216 and 14215 are both in the top 3 ZIP codes for 3 of 4 types of discrimination, plus overall\n",
    "    - 14215 is centered on Bailey Ave and the 33 and includes University Heights, NW Cheektowaga, etc.\n",
    "    - 14216 is most of North Buffalo\n",
    "- The list of top ZIPs for discrimination is significantly different for disability discrimination than for SOI, race, or FS\n",
    "    - While 14207 (Black Rock/Riverside) is high on the other lists, it is #1 for disability discrimination\n",
    "    - 14216 is in the top 3 for all other types of discrimination but is not in the top 10 for disability discrimination\n",
    "    - 14075 (Hamburg/Boston) is #2 for disability but doesn't crack the top 10 overall\n",
    "- 14213 (West Side) and 14214 (north of 198 on either side of Main St) round out the top 5 ZIP codes for discrimination\n",
    "- The top 5 ZIP codes account for 798 of the 2,473 total discrimination reports (32.3%) and the top 10 1,237 (50%)\n",
    "- Some types of discrimination are concentrated in fewer ZIP codes, which can be seen in the table below or the boxplots above:\n",
    "\n",
    "|Basis|Number in top 5|Total|Percent|\n",
    "|---|---|---|---|\n",
    "|Overall|798|2,473|32.3%|\n",
    "|Disability|137|602|22.8%|\n",
    "|Race|179| 607|29.5%|\n",
    "|Familial Status|281|683|41.1%|\n",
    "|Source of Income|325|767|42.4%|"
   ]
  },
  {
   "cell_type": "code",
   "execution_count": 203,
   "metadata": {},
   "outputs": [
    {
     "name": "stdout",
     "output_type": "stream",
     "text": [
      "2003      7\n",
      "2004     12\n",
      "2005      7\n",
      "2006     31\n",
      "2007     31\n",
      "2008     46\n",
      "2009     60\n",
      "2010     44\n",
      "2011     37\n",
      "2012     45\n",
      "2013     40\n",
      "2014     59\n",
      "2015     65\n",
      "2016     42\n",
      "2017     45\n",
      "2018     69\n",
      "2019    111\n",
      "2020     16\n",
      "Name: year, dtype: int64\n"
     ]
    }
   ],
   "source": [
    "# Exploring cases per year\n",
    "soi_years = soi['year'].value_counts().sort_index()\n",
    "print(soi_years)"
   ]
  },
  {
   "cell_type": "code",
   "execution_count": 204,
   "metadata": {},
   "outputs": [
    {
     "name": "stdout",
     "output_type": "stream",
     "text": [
      "2003    23\n",
      "2004    65\n",
      "2005    41\n",
      "2006    36\n",
      "2007    29\n",
      "2008    30\n",
      "2009    54\n",
      "2010    57\n",
      "2011    59\n",
      "2012    53\n",
      "2013    34\n",
      "2014    35\n",
      "2015    20\n",
      "2016    20\n",
      "2017    71\n",
      "2018    29\n",
      "2019    23\n",
      "2020     4\n",
      "Name: year, dtype: int64\n"
     ]
    }
   ],
   "source": [
    "fs_years = fs['year'].value_counts().sort_index()\n",
    "print(fs_years)"
   ]
  },
  {
   "cell_type": "code",
   "execution_count": 205,
   "metadata": {},
   "outputs": [
    {
     "name": "stdout",
     "output_type": "stream",
     "text": [
      "2003    30\n",
      "2004    54\n",
      "2005    47\n",
      "2006    33\n",
      "2007    27\n",
      "2008    27\n",
      "2009    26\n",
      "2010    21\n",
      "2011    21\n",
      "2012    42\n",
      "2013    25\n",
      "2014    32\n",
      "2015    45\n",
      "2016    49\n",
      "2017    42\n",
      "2018    21\n",
      "2019    47\n",
      "2020    13\n",
      "Name: year, dtype: int64\n"
     ]
    }
   ],
   "source": [
    "dis_years = dis['year'].value_counts().sort_index()\n",
    "print(dis_years)"
   ]
  },
  {
   "cell_type": "code",
   "execution_count": 206,
   "metadata": {},
   "outputs": [
    {
     "name": "stdout",
     "output_type": "stream",
     "text": [
      "2003    26\n",
      "2004    62\n",
      "2005    45\n",
      "2006    60\n",
      "2007    38\n",
      "2008    42\n",
      "2009    36\n",
      "2010    36\n",
      "2011    30\n",
      "2012    39\n",
      "2013    25\n",
      "2014    28\n",
      "2015    39\n",
      "2016    32\n",
      "2017    23\n",
      "2018    24\n",
      "2019    18\n",
      "2020     4\n",
      "Name: year, dtype: int64\n"
     ]
    }
   ],
   "source": [
    "race_years = race['year'].value_counts().sort_index()\n",
    "print(race_years)"
   ]
  },
  {
   "cell_type": "code",
   "execution_count": 207,
   "metadata": {},
   "outputs": [
    {
     "name": "stdout",
     "output_type": "stream",
     "text": [
      "2003     80\n",
      "2004    183\n",
      "2005    134\n",
      "2006    156\n",
      "2007    136\n",
      "2008    141\n",
      "2009    158\n",
      "2010    147\n",
      "2011    141\n",
      "2012    162\n",
      "2013    110\n",
      "2014    149\n",
      "2015    151\n",
      "2016    116\n",
      "2017    160\n",
      "2018    126\n",
      "2019    186\n",
      "2020     37\n",
      "Name: year, dtype: int64\n"
     ]
    }
   ],
   "source": [
    "ovr_years = unique_discrim['year'].value_counts().sort_index()\n",
    "print(ovr_years)"
   ]
  },
  {
   "cell_type": "code",
   "execution_count": 208,
   "metadata": {},
   "outputs": [
    {
     "data": {
      "image/png": "[encoded data removed]",
      "text/plain": [
       "<Figure size 720x720 with 1 Axes>"
      ]
     },
     "metadata": {
      "needs_background": "light"
     },
     "output_type": "display_data"
    }
   ],
   "source": [
    "# Overall reports per year\n",
    "fig = plt.figure(figsize=(10,10))\n",
    "ax1 = fig.add_subplot(1,1,1)\n",
    "ax1.bar((np.arange(18)+0.75), ovr_years, width=0.75, color=home_blue)\n",
    "ax1.set_xticks(np.arange(18)+0.75)\n",
    "ax1.set_xticklabels(ovr_years.index)\n",
    "ax1.set_ylabel('Incidents')\n",
    "ax1.set_title('Discrimination by year: Overall')\n",
    "for key,spine in ax1.spines.items():\n",
    "    spine.set_visible(False)\n",
    "ax1.tick_params(bottom=False, top=False, left=False, right=False)\n",
    "plt.show()"
   ]
  },
  {
   "cell_type": "code",
   "execution_count": 209,
   "metadata": {},
   "outputs": [
    {
     "data": {
      "image/png": "[encoded data removed]",
      "text/plain": [
       "<Figure size 1440x576 with 4 Axes>"
      ]
     },
     "metadata": {
      "needs_background": "light"
     },
     "output_type": "display_data"
    }
   ],
   "source": [
    "# Reports per year for the four most common bases of discrimination\n",
    "fig = plt.figure(figsize=(20,8))\n",
    "discrim_bases = [soi_years, fs_years, dis_years, race_years]\n",
    "names = ['Source of Income', 'Familial Status', 'Disability', 'Race']\n",
    "for i in range(0,4):\n",
    "    ax = fig.add_subplot(2,2,i+1)\n",
    "    ax.bar((np.arange(18)+0.75), (discrim_bases[i]/ovr_years)*100, width=0.75, color=home_blue)\n",
    "    ax.set_xticks(np.arange(18)+0.75)\n",
    "    ax.set_xticklabels(discrim_bases[i].index)\n",
    "    ax.set_ylabel('Percent of Total Incidents')\n",
    "    ax.set_title('Discrimination by year: ' + names[i])\n",
    "    for key,spine in ax.spines.items():\n",
    "        spine.set_visible(False)\n",
    "    ax.tick_params(bottom=False, top=False, left=False, right=False)\n",
    "    ax.set_ylim(0,60)\n",
    "plt.show()"
   ]
  },
  {
   "cell_type": "code",
   "execution_count": 210,
   "metadata": {},
   "outputs": [
    {
     "data": {
      "image/png": "[encoded data removed]",
      "text/plain": [
       "<Figure size 720x720 with 1 Axes>"
      ]
     },
     "metadata": {
      "needs_background": "light"
     },
     "output_type": "display_data"
    }
   ],
   "source": [
    "fig = plt.figure(figsize=(10,10))\n",
    "ax = fig.add_subplot(1,1,1)\n",
    "# SOI plus Race to see if the downward trend of racial discrimination is partly explained by a rise in SOI\n",
    "ax.bar((np.arange(18)+0.75), ((soi_years+race_years)/ovr_years)*100, width=0.75, color=home_blue)\n",
    "ax.set_xticks(np.arange(18)+0.75)\n",
    "ax.set_xticklabels(soi_years.index)\n",
    "ax.set_ylabel('Percent of Total Incidents')\n",
    "ax.set_title('Discrimination by year: Source of Income plus Race')\n",
    "for key,spine in ax.spines.items():\n",
    "    spine.set_visible(False)\n",
    "ax.tick_params(bottom=False, top=False, left=False, right=False)\n",
    "ax.set_ylim(0,100)\n",
    "fifty = np.array([50,50,50,50,50,50,50,50,50,50,50,50,50,50,50,50,50,50,50,50])\n",
    "ax.plot(fifty,color='white')\n",
    "plt.show()"
   ]
  },
  {
   "cell_type": "code",
   "execution_count": 211,
   "metadata": {},
   "outputs": [
    {
     "data": {
      "image/png": "[encoded data removed]",
      "text/plain": [
       "<Figure size 432x288 with 1 Axes>"
      ]
     },
     "metadata": {},
     "output_type": "display_data"
    }
   ],
   "source": [
    "# Concentration of discrimination reports by ZIP code\n",
    "import seaborn as sns\n",
    "sns.set_style('white')\n",
    "sns.kdeplot(unique_discrim['prop_zip'].value_counts(), shade=True, color=home_blue)\n",
    "sns.despine()\n",
    "plt.xlabel('Total Reports per ZIP')\n",
    "plt.xlim((0,250))\n",
    "plt.show()"
   ]
  },
  {
   "cell_type": "code",
   "execution_count": 38,
   "metadata": {
    "collapsed": true
   },
   "outputs": [
    {
     "data": {
      "text/plain": [
       "(33144,\n",
       " 5,\n",
       " [-176.684712, -14.37374, 0.0, 0.0],\n",
       " [145.830418, 71.341324, 0.0, 0.0],\n",
       " <matplotlib.collections.LineCollection at 0x120dad7b8>)"
      ]
     },
     "execution_count": 38,
     "metadata": {},
     "output_type": "execute_result"
    },
    {
     "data": {
      "image/png": "[encoded data removed]",
      "text/plain": [
       "<Figure size 720x720 with 1 Axes>"
      ]
     },
     "metadata": {},
     "output_type": "display_data"
    }
   ],
   "source": [
    "# Playing around with Basemap, decided not to use it and opt for folium instead\n",
    "# DO NOT RUN THIS OR THE NEXT CODE BLOCK AS THEY ARE SLOW TO LOAD\n",
    "from mpl_toolkits.basemap import Basemap\n",
    "fig, ax = plt.subplots(figsize=(10,10))\n",
    "ax.set_title('Erie County with Cities/Towns and ZIP Codes')\n",
    "ec = Basemap(projection='merc', llcrnrlat=42.421236, llcrnrlon=-79.191994, urcrnrlat=43.099789, urcrnrlon=-78.455910)\n",
    "ec.readshapefile(shapefile='/Users/Steven/*My Folders/Python/counties/cb_2019_us_county_500k', name='counties')\n",
    "ec.readshapefile(shapefile='/Users/Steven/*My Folders/Python/county_sub/cb_2019_36_cousub_500k', name='county_subs', color=home_blue)\n",
    "ec.readshapefile(shapefile='/Users/Steven/*My Folders/Python/zips/cb_2019_us_zcta510_500k', name='zips', color='red')"
   ]
  },
  {
   "cell_type": "code",
   "execution_count": 39,
   "metadata": {
    "collapsed": true
   },
   "outputs": [
    {
     "data": {
      "text/plain": [
       "(33144,\n",
       " 5,\n",
       " [-176.684712, -14.37374, 0.0, 0.0],\n",
       " [145.830418, 71.341324, 0.0, 0.0],\n",
       " <matplotlib.collections.LineCollection at 0x1a5138b860>)"
      ]
     },
     "execution_count": 39,
     "metadata": {},
     "output_type": "execute_result"
    },
    {
     "data": {
      "image/png": "[encoded data removed]",
      "text/plain": [
       "<Figure size 720x720 with 1 Axes>"
      ]
     },
     "metadata": {},
     "output_type": "display_data"
    }
   ],
   "source": [
    "fig, ax = plt.subplots(figsize=(10,10))\n",
    "ax.set_title('Buffalo with ZIP Codes')\n",
    "buf = Basemap(projection='merc', llcrnrlat=42.822984, llcrnrlon=-78.925556, urcrnrlat=42.965596, urcrnrlon=-78.796466)\n",
    "buf.readshapefile(shapefile='/Users/Steven/*My Folders/Python/county_sub/cb_2019_36_cousub_500k', name='cities')\n",
    "buf.readshapefile(shapefile='/Users/Steven/*My Folders/Python/zips/cb_2019_us_zcta510_500k', name='zips', color=home_blue)"
   ]
  },
  {
   "cell_type": "code",
   "execution_count": 212,
   "metadata": {},
   "outputs": [],
   "source": [
    "import folium\n",
    "\n",
    "# Create dataframe versions of series containing discrim counts for each ZIP code\n",
    "zip_counts = pd.DataFrame({'prop_zip': ovr_zips.index, 'count': ovr_zips.values})\n",
    "zip_counts['prop_zip'] = zip_counts['prop_zip'].astype(str)\n",
    "\n",
    "soi_zip_counts = pd.DataFrame({'prop_zip': soi_zips.index, 'count': soi_zips.values})\n",
    "soi_zip_counts['prop_zip'] = zip_counts['prop_zip'].astype(str)\n",
    "\n",
    "fs_zip_counts = pd.DataFrame({'prop_zip': fs_zips.index, 'count': fs_zips.values})\n",
    "fs_zip_counts['prop_zip'] = zip_counts['prop_zip'].astype(str)\n",
    "\n",
    "dis_zip_counts = pd.DataFrame({'prop_zip': dis_zips.index, 'count': dis_zips.values})\n",
    "dis_zip_counts['prop_zip'] = zip_counts['prop_zip'].astype(str)\n",
    "\n",
    "race_zip_counts = pd.DataFrame({'prop_zip': race_zips.index, 'count': race_zips.values})\n",
    "race_zip_counts['prop_zip'] = zip_counts['prop_zip'].astype(str)"
   ]
  },
  {
   "cell_type": "code",
   "execution_count": 213,
   "metadata": {},
   "outputs": [],
   "source": [
    "# Create GEOJSON file of all ZIP codes in New York to overlay on map\n",
    "import json\n",
    "ny_zips = json.load(open('new-york-zip-codes.geojson'))"
   ]
  },
  {
   "cell_type": "code",
   "execution_count": 214,
   "metadata": {},
   "outputs": [],
   "source": [
    "# Add features to GEOJSON noted below in order to add discrim counts to the GEOJSON,\n",
    "# allowing construction of a tooltip popup on the map showing these numbers\n",
    "for row in ny_zips['features']:\n",
    "    props = row['properties']\n",
    "    code = props['NAME']\n",
    "    # Counts for total discrim\n",
    "    if code in list(zip_counts['prop_zip']):\n",
    "        props['tot_count'] = str(zip_counts[zip_counts['prop_zip']==code].iloc[0,1])\n",
    "    else:\n",
    "        props['tot_count'] = '0'\n",
    "    # Counts for SOI discrim\n",
    "    if code in list(soi_zip_counts['prop_zip']):\n",
    "        props['soi_count'] = str(soi_zip_counts[soi_zip_counts['prop_zip']==code].iloc[0,1])\n",
    "    else:\n",
    "        props['soi_count'] = '0'\n",
    "    # Counts for FS discrim\n",
    "    if code in list(fs_zip_counts['prop_zip']):\n",
    "        props['fs_count'] = str(fs_zip_counts[fs_zip_counts['prop_zip']==code].iloc[0,1])\n",
    "    else:\n",
    "        props['fs_count'] = '0'\n",
    "    # Counts for Disability discrim\n",
    "    if code in list(dis_zip_counts['prop_zip']):\n",
    "        props['dis_count'] = str(dis_zip_counts[dis_zip_counts['prop_zip']==code].iloc[0,1])\n",
    "    else:\n",
    "        props['dis_count'] = '0'\n",
    "    # Counts for race discrim\n",
    "    if code in list(race_zip_counts['prop_zip']):\n",
    "        props['race_count'] = str(race_zip_counts[race_zip_counts['prop_zip']==code].iloc[0,1])\n",
    "    else:\n",
    "        props['race_count'] = '0'\n",
    "    # Create 'Other Discrim' count--DID NOT USE; INCORRECT DUE TO MULTIPLE BASES PER COMPLAINT\n",
    "    props['other_count'] = str(int(props['tot_count'])-(int(props['soi_count'])+int(props['fs_count'])+int(props['dis_count'])+int(props['race_count'])))"
   ]
  },
  {
   "cell_type": "code",
   "execution_count": 215,
   "metadata": {},
   "outputs": [
    {
     "data": {
      "text/plain": [
       "{'AREA': '0.00023',\n",
       " 'PERIMETER': '0.19097',\n",
       " 'ZT36_D00_': '902',\n",
       " 'ZT36_D00_I': '901',\n",
       " 'ZCTA': '14202',\n",
       " 'NAME': '14202',\n",
       " 'LSAD': 'Z5',\n",
       " 'LSAD_TRANS': '5-Digit ZCTA',\n",
       " 'tot_count': '48',\n",
       " 'soi_count': '9',\n",
       " 'fs_count': '10',\n",
       " 'dis_count': '12',\n",
       " 'race_count': '11',\n",
       " 'other_count': '6'}"
      ]
     },
     "execution_count": 215,
     "metadata": {},
     "output_type": "execute_result"
    }
   ],
   "source": [
    "ny_zips['features'][900]['properties']"
   ]
  },
  {
   "cell_type": "code",
   "execution_count": 317,
   "metadata": {},
   "outputs": [],
   "source": [
    "# Create an interactive map showing discrimination reports by ZIP code\n",
    "buf = folium.Map(location=[42.899733, -78.856891], max_zoom=18, zoom_start=12)\n",
    "bins_tot = [1,5,10,25,50,100,150,230]\n",
    "bins_soi = [1,5,10,25,50,105]\n",
    "bins_dis = [1,5,10,25,31]\n",
    "bins_fs = [1,5,10,25,50,82]\n",
    "bins_race = [1,5,10,25,48]\n",
    "\n",
    "# Create layer on map plus tooltip popup with total number of discrimination reports per ZIP code\n",
    "# This layer is the only one to display on loading the map, the others can be toggled on if desired\n",
    "tot_discrim = folium.Choropleth(\n",
    "    geo_data=ny_zips,\n",
    "    name='All Discrim',\n",
    "    data=zip_counts,\n",
    "    columns=['prop_zip', 'count'],\n",
    "    key_on='feature.properties.ZCTA',\n",
    "    highlight=True,\n",
    "    fill_opacity=0.7,\n",
    "    line_opacity=0.2,\n",
    "    bins=[float(x) for x in bins_tot],\n",
    "    legend_name='Total Discrimination Reports by ZIP Code since 2003'\n",
    ").add_to(buf)\n",
    "\n",
    "# SOI layer\n",
    "soi_discrim = folium.Choropleth(\n",
    "    geo_data=ny_zips,\n",
    "    name='SOI Discrim',\n",
    "    data=soi_zip_counts,\n",
    "    columns=['prop_zip', 'count'],\n",
    "    key_on='feature.properties.ZCTA',\n",
    "    highlight=True,\n",
    "    fill_opacity=0.7,\n",
    "    line_opacity=0.2,\n",
    "    legend_name='Source of Income Discrimination Reports by ZIP Code since 2003',\n",
    "    show=False,\n",
    "    bins=[float(x) for x in bins_soi],\n",
    "    fill_color='OrRd'\n",
    ").add_to(buf)\n",
    "\n",
    "# FS layer\n",
    "fs_discrim = folium.Choropleth(\n",
    "    geo_data=ny_zips,\n",
    "    name='FS Discrim',\n",
    "    data=fs_zip_counts,\n",
    "    columns=['prop_zip', 'count'],\n",
    "    key_on='feature.properties.ZCTA',\n",
    "    highlight=True,\n",
    "    fill_opacity=0.7,\n",
    "    line_opacity=0.2,\n",
    "    legend_name='Familial Status Discrimination Reports by ZIP Code since 2003',\n",
    "    show=False,\n",
    "    bins=[float(x) for x in bins_fs],\n",
    "    fill_color='PuRd'\n",
    ").add_to(buf)\n",
    "\n",
    "# Dis layer\n",
    "dis_discrim = folium.Choropleth(\n",
    "    geo_data=ny_zips,\n",
    "    name='Dis Discrim',\n",
    "    data=dis_zip_counts,\n",
    "    columns=['prop_zip', 'count'],\n",
    "    key_on='feature.properties.ZCTA',\n",
    "    highlight=True,\n",
    "    fill_opacity=0.7,\n",
    "    line_opacity=0.2,\n",
    "    legend_name='Disability Discrimination Reports by ZIP Code since 2003',\n",
    "    show=False,\n",
    "    bins=[float(x) for x in bins_dis],\n",
    "    fill_color='YlGn'\n",
    ").add_to(buf)\n",
    "\n",
    "# Race layer\n",
    "race_discrim = folium.Choropleth(\n",
    "    geo_data=ny_zips,\n",
    "    name='Race Discrim',\n",
    "    data=race_zip_counts,\n",
    "    columns=['prop_zip', 'count'],\n",
    "    key_on='feature.properties.ZCTA',\n",
    "    highlight=True,\n",
    "    fill_opacity=0.7,\n",
    "    line_opacity=0.2,\n",
    "    legend_name='Race Discrimination Reports by ZIP Code since 2003',\n",
    "    show=False,\n",
    "    bins=[float(x) for x in bins_race],\n",
    "    fill_color='GnBu'\n",
    ").add_to(buf)\n",
    "\n",
    "folium.LayerControl().add_to(buf)\n",
    "\n",
    "# Adding mouseover popup with statistics\n",
    "folium.GeoJsonTooltip(\n",
    "    fields=['ZCTA','tot_count', 'soi_count', 'fs_count', 'dis_count', 'race_count'],\n",
    "    aliases=['ZIP','Total Reports', 'Source of Income', 'Familial Status', 'Disability', 'Race']\n",
    ").add_to(tot_discrim.geojson)\n",
    "\n",
    "folium.GeoJsonTooltip(\n",
    "    fields=['ZCTA', 'soi_count'],\n",
    "    aliases=['ZIP', 'Source of Income']\n",
    ").add_to(soi_discrim.geojson)\n",
    "\n",
    "folium.GeoJsonTooltip(\n",
    "    fields=['ZCTA', 'fs_count'],\n",
    "    aliases=['ZIP', 'Familial Status']\n",
    ").add_to(fs_discrim.geojson)\n",
    "\n",
    "folium.GeoJsonTooltip(\n",
    "    fields=['ZCTA','dis_count'],\n",
    "    aliases=['ZIP','Disability']\n",
    ").add_to(dis_discrim.geojson)\n",
    "\n",
    "folium.GeoJsonTooltip(\n",
    "    fields=['ZCTA', 'race_count'],\n",
    "    aliases=['ZIP', 'Race']\n",
    ").add_to(race_discrim.geojson)\n",
    "\n",
    "buf.save('buf_discrim.html')"
   ]
  },
  {
   "cell_type": "code",
   "execution_count": 216,
   "metadata": {},
   "outputs": [],
   "source": [
    "# Load New York ZIP code population\n",
    "ny_zip_pop = pd.read_csv('ny_zip_pop.csv')"
   ]
  },
  {
   "cell_type": "code",
   "execution_count": 217,
   "metadata": {},
   "outputs": [],
   "source": [
    "ny_zip_pop['prop_zip'] = ny_zip_pop['zip'].astype(str)"
   ]
  },
  {
   "cell_type": "code",
   "execution_count": 218,
   "metadata": {},
   "outputs": [
    {
     "name": "stdout",
     "output_type": "stream",
     "text": [
      "<class 'pandas.core.frame.DataFrame'>\n",
      "RangeIndex: 1794 entries, 0 to 1793\n",
      "Data columns (total 2 columns):\n",
      "pop         1794 non-null int64\n",
      "prop_zip    1794 non-null object\n",
      "dtypes: int64(1), object(1)\n",
      "memory usage: 28.1+ KB\n"
     ]
    }
   ],
   "source": [
    "ny_zip_pop.drop('zip', axis=1, inplace=True)\n",
    "ny_zip_pop.info()"
   ]
  },
  {
   "cell_type": "code",
   "execution_count": 219,
   "metadata": {},
   "outputs": [],
   "source": [
    "# Add population-adjusted discrimination counts--per 1,000 people according to 2010 Census--to the GEOJSON\n",
    "for row in ny_zips['features']:\n",
    "    props = row['properties']\n",
    "    code = props['NAME']\n",
    "    # Counts for total discrim\n",
    "    if code in list(zip_counts['prop_zip']):\n",
    "        props['tot_count_pop'] = str(round(float((zip_counts[zip_counts['prop_zip']==code].iloc[0,1])) / \n",
    "                                      float((ny_zip_pop[ny_zip_pop['prop_zip']==code].iloc[0,1]))*1000, 2))\n",
    "    else:\n",
    "        props['tot_count_pop'] = '0'\n",
    "    # Counts for SOI discrim\n",
    "    if code in list(soi_zip_counts['prop_zip']):\n",
    "        props['soi_count_pop'] = str(round(float(soi_zip_counts[soi_zip_counts['prop_zip']==code].iloc[0,1]) / \n",
    "                                      float(ny_zip_pop[ny_zip_pop['prop_zip']==code].iloc[0,1])*1000, 2))\n",
    "    else:\n",
    "        props['soi_count_pop'] = '0'\n",
    "    # Counts for FS discrim\n",
    "    if code in list(fs_zip_counts['prop_zip']):\n",
    "        props['fs_count_pop'] = str(round(float((fs_zip_counts[fs_zip_counts['prop_zip']==code].iloc[0,1]) / \n",
    "                                      float(ny_zip_pop[ny_zip_pop['prop_zip']==code].iloc[0,1]))*1000, 2))\n",
    "    else:\n",
    "        props['fs_count_pop'] = '0'\n",
    "    # Counts for Disability discrim\n",
    "    if code in list(dis_zip_counts['prop_zip']):\n",
    "        props['dis_count_pop'] = str(round(float((dis_zip_counts[dis_zip_counts['prop_zip']==code].iloc[0,1]) / \n",
    "                                      float(ny_zip_pop[ny_zip_pop['prop_zip']==code].iloc[0,1]))*1000, 2))\n",
    "    else:\n",
    "        props['dis_count_pop'] = '0'\n",
    "    # Counts for race discrim\n",
    "    if code in list(race_zip_counts['prop_zip']):\n",
    "        props['race_count_pop'] = str(round(float((race_zip_counts[race_zip_counts['prop_zip']==code].iloc[0,1]) / \n",
    "                                      float(ny_zip_pop[ny_zip_pop['prop_zip']==code].iloc[0,1]))*1000, 2))\n",
    "    else:\n",
    "        props['race_count_pop'] = '0'"
   ]
  },
  {
   "cell_type": "code",
   "execution_count": 220,
   "metadata": {},
   "outputs": [],
   "source": [
    "# Merging population into discrimination dataframes\n",
    "all_zips_discrims = zip_counts.merge(ny_zip_pop,on='prop_zip')\n",
    "soi_zips_discrims = soi_zip_counts.merge(ny_zip_pop,on='prop_zip')\n",
    "dis_zips_discrims = dis_zip_counts.merge(ny_zip_pop,on='prop_zip')\n",
    "fs_zips_discrims = fs_zip_counts.merge(ny_zip_pop,on='prop_zip')\n",
    "race_zips_discrims = race_zip_counts.merge(ny_zip_pop,on='prop_zip')"
   ]
  },
  {
   "cell_type": "code",
   "execution_count": 221,
   "metadata": {},
   "outputs": [
    {
     "name": "stdout",
     "output_type": "stream",
     "text": [
      "<class 'pandas.core.frame.DataFrame'>\n",
      "Int64Index: 94 entries, 0 to 93\n",
      "Data columns (total 3 columns):\n",
      "prop_zip    94 non-null object\n",
      "count       94 non-null int64\n",
      "pop         94 non-null int64\n",
      "dtypes: int64(2), object(1)\n",
      "memory usage: 2.9+ KB\n",
      "None\n",
      "<class 'pandas.core.frame.DataFrame'>\n",
      "Int64Index: 50 entries, 0 to 49\n",
      "Data columns (total 3 columns):\n",
      "prop_zip    50 non-null object\n",
      "count       50 non-null int64\n",
      "pop         50 non-null int64\n",
      "dtypes: int64(2), object(1)\n",
      "memory usage: 1.6+ KB\n",
      "None\n",
      "<class 'pandas.core.frame.DataFrame'>\n",
      "Int64Index: 71 entries, 0 to 70\n",
      "Data columns (total 3 columns):\n",
      "prop_zip    71 non-null object\n",
      "count       71 non-null int64\n",
      "pop         71 non-null int64\n",
      "dtypes: int64(2), object(1)\n",
      "memory usage: 2.2+ KB\n",
      "None\n",
      "<class 'pandas.core.frame.DataFrame'>\n",
      "Int64Index: 61 entries, 0 to 60\n",
      "Data columns (total 3 columns):\n",
      "prop_zip    61 non-null object\n",
      "count       61 non-null int64\n",
      "pop         61 non-null int64\n",
      "dtypes: int64(2), object(1)\n",
      "memory usage: 1.9+ KB\n",
      "None\n",
      "<class 'pandas.core.frame.DataFrame'>\n",
      "Int64Index: 56 entries, 0 to 55\n",
      "Data columns (total 3 columns):\n",
      "prop_zip    56 non-null object\n",
      "count       56 non-null int64\n",
      "pop         56 non-null int64\n",
      "dtypes: int64(2), object(1)\n",
      "memory usage: 1.8+ KB\n",
      "None\n"
     ]
    }
   ],
   "source": [
    "bases_dfs = [all_zips_discrims, soi_zips_discrims, dis_zips_discrims, fs_zips_discrims, race_zips_discrims]\n",
    "for df in bases_dfs:\n",
    "    print(df.info())"
   ]
  },
  {
   "cell_type": "code",
   "execution_count": 222,
   "metadata": {},
   "outputs": [],
   "source": [
    "# ZIP code 14614 had an incorrect value for population--fixes problem with proper value\n",
    "all_zips_discrims.loc[78,'pop']=1224"
   ]
  },
  {
   "cell_type": "code",
   "execution_count": 223,
   "metadata": {},
   "outputs": [],
   "source": [
    "# Create population-adjusted discrimination count column in each of the above dataframes\n",
    "for df in bases_dfs:\n",
    "    df['pop_adj'] = (df['count'] / df['pop']) * 1000"
   ]
  },
  {
   "cell_type": "code",
   "execution_count": 224,
   "metadata": {},
   "outputs": [
    {
     "name": "stdout",
     "output_type": "stream",
     "text": [
      "  prop_zip  count    pop   pop_adj\n",
      "0    14215    230  39007  5.896378\n",
      "1    14216    168  22371  7.509722\n",
      "2    14214    144  18125  7.944828\n",
      "  prop_zip  count    pop   pop_adj\n",
      "0    14215    105  39007  2.691825\n",
      "1    14216     69  22371  3.084350\n",
      "2    14214     55  18125  3.034483\n",
      "  prop_zip  count    pop   pop_adj\n",
      "0    14215     31  39007  0.794729\n",
      "1    14216     27  22371  1.206920\n",
      "2    14214     27  18125  1.489655\n",
      "  prop_zip  count    pop   pop_adj\n",
      "0    14215     82  39007  2.102187\n",
      "1    14216     62  22371  2.771445\n",
      "2    14214     57  18125  3.144828\n",
      "  prop_zip  count    pop   pop_adj\n",
      "0    14215     48  39007  1.230548\n",
      "1    14216     44  22371  1.966832\n",
      "2    14214     31  18125  1.710345\n"
     ]
    }
   ],
   "source": [
    "for df in bases_dfs:\n",
    "    print(df.head(3))"
   ]
  },
  {
   "cell_type": "code",
   "execution_count": 61,
   "metadata": {},
   "outputs": [],
   "source": [
    "# Create map similar to above, but with population-adjusted numbers rather than raw\n",
    "buf_pop = folium.Map(location=[42.899733, -78.856891], max_zoom=18, zoom_start=12)\n",
    "bins_tot_pop = [0,1,3,5,7,10,18]\n",
    "bins_soi_pop = [0,1.5,2,2.5,2.8,3.1]\n",
    "bins_dis_pop = [0,0.5,1,1.5,2,3,4.09]\n",
    "bins_fs_pop = [0,0.5,1,2,3,3.4]\n",
    "bins_race_pop = [0,0.5,0.9,1.3,1.8,2.5,3.7]\n",
    "\n",
    "# Create layer on map plus tooltip popup with total number of discrimination reports per ZIP code, population adjusted\n",
    "tot_discrim_pop = folium.Choropleth(\n",
    "    geo_data=ny_zips,\n",
    "    name='All Discrim',\n",
    "    data=all_zips_discrims,\n",
    "    columns=['prop_zip', 'pop_adj'],\n",
    "    key_on='feature.properties.ZCTA',\n",
    "    highlight=True,\n",
    "    fill_opacity=0.7,\n",
    "    line_opacity=0.2,\n",
    "    bins=[float(x) for x in bins_tot_pop],\n",
    "    legend_name='Total Discrimination Reports per 1,000 by ZIP Code since 2003'\n",
    ").add_to(buf_pop)\n",
    "\n",
    "# SOI layer\n",
    "soi_discrim_pop = folium.Choropleth(\n",
    "    geo_data=ny_zips,\n",
    "    name='SOI Discrim',\n",
    "    data=soi_zips_discrims,\n",
    "    columns=['prop_zip', 'pop_adj'],\n",
    "    key_on='feature.properties.ZCTA',\n",
    "    highlight=True,\n",
    "    fill_opacity=0.7,\n",
    "    line_opacity=0.2,\n",
    "    legend_name='Source of Income Discrimination Reports per 1,000 by ZIP Code since 2003',\n",
    "    show=False,\n",
    "    bins=6,\n",
    "    fill_color='OrRd'\n",
    ").add_to(buf_pop)\n",
    "\n",
    "# FS layer\n",
    "fs_discrim_pop = folium.Choropleth(\n",
    "    geo_data=ny_zips,\n",
    "    name='FS Discrim',\n",
    "    data=fs_zips_discrims,\n",
    "    columns=['prop_zip', 'pop_adj'],\n",
    "    key_on='feature.properties.ZCTA',\n",
    "    highlight=True,\n",
    "    fill_opacity=0.7,\n",
    "    line_opacity=0.2,\n",
    "    legend_name='Familial Status Discrimination Reports per 1,000 by ZIP Code since 2003',\n",
    "    show=False,\n",
    "    bins=[float(x) for x in bins_fs_pop],\n",
    "    fill_color='PuRd'\n",
    ").add_to(buf_pop)\n",
    "\n",
    "# Dis layer\n",
    "dis_discrim_pop = folium.Choropleth(\n",
    "    geo_data=ny_zips,\n",
    "    name='Dis Discrim',\n",
    "    data=dis_zips_discrims,\n",
    "    columns=['prop_zip', 'pop_adj'],\n",
    "    key_on='feature.properties.ZCTA',\n",
    "    highlight=True,\n",
    "    fill_opacity=0.7,\n",
    "    line_opacity=0.2,\n",
    "    legend_name='Disability Discrimination Reports per 1,000 by ZIP Code since 2003',\n",
    "    show=False,\n",
    "    bins=[float(x) for x in bins_dis_pop],\n",
    "    fill_color='YlGn'\n",
    ").add_to(buf_pop)\n",
    "\n",
    "# Race layer\n",
    "race_discrim_pop = folium.Choropleth(\n",
    "    geo_data=ny_zips,\n",
    "    name='Race Discrim',\n",
    "    data=race_zips_discrims,\n",
    "    columns=['prop_zip', 'pop_adj'],\n",
    "    key_on='feature.properties.ZCTA',\n",
    "    highlight=True,\n",
    "    fill_opacity=0.7,\n",
    "    line_opacity=0.2,\n",
    "    legend_name='Race Discrimination Reports per 1,000 by ZIP Code since 2003',\n",
    "    show=False,\n",
    "    bins=[float(x) for x in bins_race_pop],\n",
    "    fill_color='GnBu'\n",
    ").add_to(buf_pop)\n",
    "\n",
    "folium.LayerControl().add_to(buf_pop)\n",
    "\n",
    "folium.GeoJsonTooltip(\n",
    "    fields=['ZCTA','tot_count_pop', 'soi_count_pop', 'fs_count_pop', 'dis_count_pop', 'race_count_pop'],\n",
    "    aliases=['ZIP','Reports per 1,000', 'Source of Income', 'Familial Status', 'Disability', 'Race']\n",
    ").add_to(tot_discrim_pop.geojson)\n",
    "\n",
    "folium.GeoJsonTooltip(\n",
    "    fields=['ZCTA', 'soi_count_pop'],\n",
    "    aliases=['ZIP', 'Source of Income per 1,000']\n",
    ").add_to(soi_discrim_pop.geojson)\n",
    "\n",
    "folium.GeoJsonTooltip(\n",
    "    fields=['ZCTA', 'fs_count_pop'],\n",
    "    aliases=['ZIP', 'Familial Status per 1,000']\n",
    ").add_to(fs_discrim_pop.geojson)\n",
    "\n",
    "folium.GeoJsonTooltip(\n",
    "    fields=['ZCTA','dis_count_pop'],\n",
    "    aliases=['ZIP','Disability per 1,000']\n",
    ").add_to(dis_discrim_pop.geojson)\n",
    "\n",
    "folium.GeoJsonTooltip(\n",
    "    fields=['ZCTA', 'race_count_pop'],\n",
    "    aliases=['ZIP', 'Race per 1,000']\n",
    ").add_to(race_discrim_pop.geojson)\n",
    "\n",
    "buf_pop.save('buf_discrim_pop.html')"
   ]
  },
  {
   "cell_type": "code",
   "execution_count": 225,
   "metadata": {},
   "outputs": [
    {
     "name": "stdout",
     "output_type": "stream",
     "text": [
      "   prop_zip  count   pop    pop_adj\n",
      "21    14202     48  3003  15.984016\n",
      "36    14203     11  1310   8.396947\n",
      "15    14209     59  7197   8.197860\n",
      "   prop_zip  count    pop   pop_adj\n",
      "1     14216     69  22371  3.084350\n",
      "2     14214     55  18125  3.034483\n",
      "21    14202      9   3003  2.997003\n",
      "   prop_zip  count   pop   pop_adj\n",
      "21    14202     12  3003  3.996004\n",
      "36    14203      5  1310  3.816794\n",
      "15    14209     16  7197  2.223149\n",
      "   prop_zip  count    pop   pop_adj\n",
      "21    14202     10   3003  3.330003\n",
      "2     14214     57  18125  3.144828\n",
      "1     14216     62  22371  2.771445\n",
      "   prop_zip  count    pop   pop_adj\n",
      "21    14202     11   3003  3.663004\n",
      "15    14209     15   7197  2.084202\n",
      "7     14201     23  11155  2.061856\n"
     ]
    }
   ],
   "source": [
    "for df in bases_dfs:\n",
    "    df.sort_values(by='pop_adj', axis=0, inplace=True, ascending=False)\n",
    "    print(df.head(3))"
   ]
  },
  {
   "cell_type": "code",
   "execution_count": 232,
   "metadata": {},
   "outputs": [
    {
     "data": {
      "text/html": [
       "<div>\n",
       "<style scoped>\n",
       "    .dataframe tbody tr th:only-of-type {\n",
       "        vertical-align: middle;\n",
       "    }\n",
       "\n",
       "    .dataframe tbody tr th {\n",
       "        vertical-align: top;\n",
       "    }\n",
       "\n",
       "    .dataframe thead th {\n",
       "        text-align: right;\n",
       "    }\n",
       "</style>\n",
       "<table border=\"1\" class=\"dataframe\">\n",
       "  <thead>\n",
       "    <tr style=\"text-align: right;\">\n",
       "      <th></th>\n",
       "      <th>prop_zip</th>\n",
       "      <th>count</th>\n",
       "      <th>pop</th>\n",
       "      <th>pop_adj</th>\n",
       "      <th>raw_rank</th>\n",
       "    </tr>\n",
       "  </thead>\n",
       "  <tbody>\n",
       "    <tr>\n",
       "      <th>21</th>\n",
       "      <td>14202</td>\n",
       "      <td>48</td>\n",
       "      <td>3003</td>\n",
       "      <td>15.984016</td>\n",
       "      <td>22</td>\n",
       "    </tr>\n",
       "    <tr>\n",
       "      <th>36</th>\n",
       "      <td>14203</td>\n",
       "      <td>11</td>\n",
       "      <td>1310</td>\n",
       "      <td>8.396947</td>\n",
       "      <td>37</td>\n",
       "    </tr>\n",
       "    <tr>\n",
       "      <th>15</th>\n",
       "      <td>14209</td>\n",
       "      <td>59</td>\n",
       "      <td>7197</td>\n",
       "      <td>8.197860</td>\n",
       "      <td>16</td>\n",
       "    </tr>\n",
       "    <tr>\n",
       "      <th>7</th>\n",
       "      <td>14201</td>\n",
       "      <td>89</td>\n",
       "      <td>11155</td>\n",
       "      <td>7.978485</td>\n",
       "      <td>8</td>\n",
       "    </tr>\n",
       "    <tr>\n",
       "      <th>2</th>\n",
       "      <td>14214</td>\n",
       "      <td>144</td>\n",
       "      <td>18125</td>\n",
       "      <td>7.944828</td>\n",
       "      <td>3</td>\n",
       "    </tr>\n",
       "    <tr>\n",
       "      <th>1</th>\n",
       "      <td>14216</td>\n",
       "      <td>168</td>\n",
       "      <td>22371</td>\n",
       "      <td>7.509722</td>\n",
       "      <td>2</td>\n",
       "    </tr>\n",
       "    <tr>\n",
       "      <th>6</th>\n",
       "      <td>14222</td>\n",
       "      <td>90</td>\n",
       "      <td>12218</td>\n",
       "      <td>7.366181</td>\n",
       "      <td>7</td>\n",
       "    </tr>\n",
       "    <tr>\n",
       "      <th>14</th>\n",
       "      <td>14208</td>\n",
       "      <td>62</td>\n",
       "      <td>9768</td>\n",
       "      <td>6.347256</td>\n",
       "      <td>15</td>\n",
       "    </tr>\n",
       "    <tr>\n",
       "      <th>0</th>\n",
       "      <td>14215</td>\n",
       "      <td>230</td>\n",
       "      <td>39007</td>\n",
       "      <td>5.896378</td>\n",
       "      <td>1</td>\n",
       "    </tr>\n",
       "    <tr>\n",
       "      <th>3</th>\n",
       "      <td>14213</td>\n",
       "      <td>132</td>\n",
       "      <td>24022</td>\n",
       "      <td>5.494963</td>\n",
       "      <td>4</td>\n",
       "    </tr>\n",
       "  </tbody>\n",
       "</table>\n",
       "</div>"
      ],
      "text/plain": [
       "   prop_zip  count    pop    pop_adj  raw_rank\n",
       "21    14202     48   3003  15.984016        22\n",
       "36    14203     11   1310   8.396947        37\n",
       "15    14209     59   7197   8.197860        16\n",
       "7     14201     89  11155   7.978485         8\n",
       "2     14214    144  18125   7.944828         3\n",
       "1     14216    168  22371   7.509722         2\n",
       "6     14222     90  12218   7.366181         7\n",
       "14    14208     62   9768   6.347256        15\n",
       "0     14215    230  39007   5.896378         1\n",
       "3     14213    132  24022   5.494963         4"
      ]
     },
     "execution_count": 232,
     "metadata": {},
     "output_type": "execute_result"
    }
   ],
   "source": [
    "all_zips_discrims.head(10)"
   ]
  },
  {
   "cell_type": "code",
   "execution_count": 233,
   "metadata": {},
   "outputs": [
    {
     "data": {
      "text/html": [
       "<div>\n",
       "<style scoped>\n",
       "    .dataframe tbody tr th:only-of-type {\n",
       "        vertical-align: middle;\n",
       "    }\n",
       "\n",
       "    .dataframe tbody tr th {\n",
       "        vertical-align: top;\n",
       "    }\n",
       "\n",
       "    .dataframe thead th {\n",
       "        text-align: right;\n",
       "    }\n",
       "</style>\n",
       "<table border=\"1\" class=\"dataframe\">\n",
       "  <thead>\n",
       "    <tr style=\"text-align: right;\">\n",
       "      <th></th>\n",
       "      <th>prop_zip</th>\n",
       "      <th>count</th>\n",
       "      <th>pop</th>\n",
       "      <th>pop_adj</th>\n",
       "      <th>raw_rank</th>\n",
       "    </tr>\n",
       "  </thead>\n",
       "  <tbody>\n",
       "    <tr>\n",
       "      <th>1</th>\n",
       "      <td>14216</td>\n",
       "      <td>69</td>\n",
       "      <td>22371</td>\n",
       "      <td>3.084350</td>\n",
       "      <td>2</td>\n",
       "    </tr>\n",
       "    <tr>\n",
       "      <th>2</th>\n",
       "      <td>14214</td>\n",
       "      <td>55</td>\n",
       "      <td>18125</td>\n",
       "      <td>3.034483</td>\n",
       "      <td>3</td>\n",
       "    </tr>\n",
       "    <tr>\n",
       "      <th>21</th>\n",
       "      <td>14202</td>\n",
       "      <td>9</td>\n",
       "      <td>3003</td>\n",
       "      <td>2.997003</td>\n",
       "      <td>22</td>\n",
       "    </tr>\n",
       "    <tr>\n",
       "      <th>7</th>\n",
       "      <td>14201</td>\n",
       "      <td>31</td>\n",
       "      <td>11155</td>\n",
       "      <td>2.779023</td>\n",
       "      <td>8</td>\n",
       "    </tr>\n",
       "    <tr>\n",
       "      <th>0</th>\n",
       "      <td>14215</td>\n",
       "      <td>105</td>\n",
       "      <td>39007</td>\n",
       "      <td>2.691825</td>\n",
       "      <td>1</td>\n",
       "    </tr>\n",
       "    <tr>\n",
       "      <th>6</th>\n",
       "      <td>14222</td>\n",
       "      <td>31</td>\n",
       "      <td>12218</td>\n",
       "      <td>2.537240</td>\n",
       "      <td>7</td>\n",
       "    </tr>\n",
       "    <tr>\n",
       "      <th>15</th>\n",
       "      <td>14209</td>\n",
       "      <td>18</td>\n",
       "      <td>7197</td>\n",
       "      <td>2.501042</td>\n",
       "      <td>16</td>\n",
       "    </tr>\n",
       "    <tr>\n",
       "      <th>3</th>\n",
       "      <td>14213</td>\n",
       "      <td>51</td>\n",
       "      <td>24022</td>\n",
       "      <td>2.123054</td>\n",
       "      <td>4</td>\n",
       "    </tr>\n",
       "    <tr>\n",
       "      <th>14</th>\n",
       "      <td>14208</td>\n",
       "      <td>20</td>\n",
       "      <td>9768</td>\n",
       "      <td>2.047502</td>\n",
       "      <td>15</td>\n",
       "    </tr>\n",
       "    <tr>\n",
       "      <th>5</th>\n",
       "      <td>14211</td>\n",
       "      <td>43</td>\n",
       "      <td>22353</td>\n",
       "      <td>1.923679</td>\n",
       "      <td>6</td>\n",
       "    </tr>\n",
       "  </tbody>\n",
       "</table>\n",
       "</div>"
      ],
      "text/plain": [
       "   prop_zip  count    pop   pop_adj  raw_rank\n",
       "1     14216     69  22371  3.084350         2\n",
       "2     14214     55  18125  3.034483         3\n",
       "21    14202      9   3003  2.997003        22\n",
       "7     14201     31  11155  2.779023         8\n",
       "0     14215    105  39007  2.691825         1\n",
       "6     14222     31  12218  2.537240         7\n",
       "15    14209     18   7197  2.501042        16\n",
       "3     14213     51  24022  2.123054         4\n",
       "14    14208     20   9768  2.047502        15\n",
       "5     14211     43  22353  1.923679         6"
      ]
     },
     "execution_count": 233,
     "metadata": {},
     "output_type": "execute_result"
    }
   ],
   "source": [
    "soi_zips_discrims.head(10)"
   ]
  },
  {
   "cell_type": "code",
   "execution_count": 234,
   "metadata": {},
   "outputs": [
    {
     "data": {
      "text/html": [
       "<div>\n",
       "<style scoped>\n",
       "    .dataframe tbody tr th:only-of-type {\n",
       "        vertical-align: middle;\n",
       "    }\n",
       "\n",
       "    .dataframe tbody tr th {\n",
       "        vertical-align: top;\n",
       "    }\n",
       "\n",
       "    .dataframe thead th {\n",
       "        text-align: right;\n",
       "    }\n",
       "</style>\n",
       "<table border=\"1\" class=\"dataframe\">\n",
       "  <thead>\n",
       "    <tr style=\"text-align: right;\">\n",
       "      <th></th>\n",
       "      <th>prop_zip</th>\n",
       "      <th>count</th>\n",
       "      <th>pop</th>\n",
       "      <th>pop_adj</th>\n",
       "      <th>raw_rank</th>\n",
       "    </tr>\n",
       "  </thead>\n",
       "  <tbody>\n",
       "    <tr>\n",
       "      <th>21</th>\n",
       "      <td>14202</td>\n",
       "      <td>12</td>\n",
       "      <td>3003</td>\n",
       "      <td>3.996004</td>\n",
       "      <td>22</td>\n",
       "    </tr>\n",
       "    <tr>\n",
       "      <th>36</th>\n",
       "      <td>14203</td>\n",
       "      <td>5</td>\n",
       "      <td>1310</td>\n",
       "      <td>3.816794</td>\n",
       "      <td>37</td>\n",
       "    </tr>\n",
       "    <tr>\n",
       "      <th>15</th>\n",
       "      <td>14209</td>\n",
       "      <td>16</td>\n",
       "      <td>7197</td>\n",
       "      <td>2.223149</td>\n",
       "      <td>16</td>\n",
       "    </tr>\n",
       "    <tr>\n",
       "      <th>7</th>\n",
       "      <td>14201</td>\n",
       "      <td>23</td>\n",
       "      <td>11155</td>\n",
       "      <td>2.061856</td>\n",
       "      <td>8</td>\n",
       "    </tr>\n",
       "    <tr>\n",
       "      <th>6</th>\n",
       "      <td>14222</td>\n",
       "      <td>23</td>\n",
       "      <td>12218</td>\n",
       "      <td>1.882468</td>\n",
       "      <td>7</td>\n",
       "    </tr>\n",
       "    <tr>\n",
       "      <th>14</th>\n",
       "      <td>14208</td>\n",
       "      <td>17</td>\n",
       "      <td>9768</td>\n",
       "      <td>1.740377</td>\n",
       "      <td>15</td>\n",
       "    </tr>\n",
       "    <tr>\n",
       "      <th>2</th>\n",
       "      <td>14214</td>\n",
       "      <td>27</td>\n",
       "      <td>18125</td>\n",
       "      <td>1.489655</td>\n",
       "      <td>3</td>\n",
       "    </tr>\n",
       "    <tr>\n",
       "      <th>18</th>\n",
       "      <td>14212</td>\n",
       "      <td>13</td>\n",
       "      <td>10574</td>\n",
       "      <td>1.229431</td>\n",
       "      <td>19</td>\n",
       "    </tr>\n",
       "    <tr>\n",
       "      <th>1</th>\n",
       "      <td>14216</td>\n",
       "      <td>27</td>\n",
       "      <td>22371</td>\n",
       "      <td>1.206920</td>\n",
       "      <td>2</td>\n",
       "    </tr>\n",
       "    <tr>\n",
       "      <th>48</th>\n",
       "      <td>14034</td>\n",
       "      <td>2</td>\n",
       "      <td>1778</td>\n",
       "      <td>1.124859</td>\n",
       "      <td>49</td>\n",
       "    </tr>\n",
       "  </tbody>\n",
       "</table>\n",
       "</div>"
      ],
      "text/plain": [
       "   prop_zip  count    pop   pop_adj  raw_rank\n",
       "21    14202     12   3003  3.996004        22\n",
       "36    14203      5   1310  3.816794        37\n",
       "15    14209     16   7197  2.223149        16\n",
       "7     14201     23  11155  2.061856         8\n",
       "6     14222     23  12218  1.882468         7\n",
       "14    14208     17   9768  1.740377        15\n",
       "2     14214     27  18125  1.489655         3\n",
       "18    14212     13  10574  1.229431        19\n",
       "1     14216     27  22371  1.206920         2\n",
       "48    14034      2   1778  1.124859        49"
      ]
     },
     "execution_count": 234,
     "metadata": {},
     "output_type": "execute_result"
    }
   ],
   "source": [
    "dis_zips_discrims.head(10)"
   ]
  },
  {
   "cell_type": "code",
   "execution_count": 235,
   "metadata": {},
   "outputs": [
    {
     "data": {
      "text/html": [
       "<div>\n",
       "<style scoped>\n",
       "    .dataframe tbody tr th:only-of-type {\n",
       "        vertical-align: middle;\n",
       "    }\n",
       "\n",
       "    .dataframe tbody tr th {\n",
       "        vertical-align: top;\n",
       "    }\n",
       "\n",
       "    .dataframe thead th {\n",
       "        text-align: right;\n",
       "    }\n",
       "</style>\n",
       "<table border=\"1\" class=\"dataframe\">\n",
       "  <thead>\n",
       "    <tr style=\"text-align: right;\">\n",
       "      <th></th>\n",
       "      <th>prop_zip</th>\n",
       "      <th>count</th>\n",
       "      <th>pop</th>\n",
       "      <th>pop_adj</th>\n",
       "      <th>raw_rank</th>\n",
       "    </tr>\n",
       "  </thead>\n",
       "  <tbody>\n",
       "    <tr>\n",
       "      <th>21</th>\n",
       "      <td>14202</td>\n",
       "      <td>10</td>\n",
       "      <td>3003</td>\n",
       "      <td>3.330003</td>\n",
       "      <td>22</td>\n",
       "    </tr>\n",
       "    <tr>\n",
       "      <th>2</th>\n",
       "      <td>14214</td>\n",
       "      <td>57</td>\n",
       "      <td>18125</td>\n",
       "      <td>3.144828</td>\n",
       "      <td>3</td>\n",
       "    </tr>\n",
       "    <tr>\n",
       "      <th>1</th>\n",
       "      <td>14216</td>\n",
       "      <td>62</td>\n",
       "      <td>22371</td>\n",
       "      <td>2.771445</td>\n",
       "      <td>2</td>\n",
       "    </tr>\n",
       "    <tr>\n",
       "      <th>36</th>\n",
       "      <td>14203</td>\n",
       "      <td>3</td>\n",
       "      <td>1310</td>\n",
       "      <td>2.290076</td>\n",
       "      <td>37</td>\n",
       "    </tr>\n",
       "    <tr>\n",
       "      <th>7</th>\n",
       "      <td>14201</td>\n",
       "      <td>24</td>\n",
       "      <td>11155</td>\n",
       "      <td>2.151502</td>\n",
       "      <td>8</td>\n",
       "    </tr>\n",
       "    <tr>\n",
       "      <th>0</th>\n",
       "      <td>14215</td>\n",
       "      <td>82</td>\n",
       "      <td>39007</td>\n",
       "      <td>2.102187</td>\n",
       "      <td>1</td>\n",
       "    </tr>\n",
       "    <tr>\n",
       "      <th>15</th>\n",
       "      <td>14209</td>\n",
       "      <td>15</td>\n",
       "      <td>7197</td>\n",
       "      <td>2.084202</td>\n",
       "      <td>16</td>\n",
       "    </tr>\n",
       "    <tr>\n",
       "      <th>6</th>\n",
       "      <td>14222</td>\n",
       "      <td>25</td>\n",
       "      <td>12218</td>\n",
       "      <td>2.046161</td>\n",
       "      <td>7</td>\n",
       "    </tr>\n",
       "    <tr>\n",
       "      <th>3</th>\n",
       "      <td>14213</td>\n",
       "      <td>47</td>\n",
       "      <td>24022</td>\n",
       "      <td>1.956540</td>\n",
       "      <td>4</td>\n",
       "    </tr>\n",
       "    <tr>\n",
       "      <th>14</th>\n",
       "      <td>14208</td>\n",
       "      <td>15</td>\n",
       "      <td>9768</td>\n",
       "      <td>1.535627</td>\n",
       "      <td>15</td>\n",
       "    </tr>\n",
       "  </tbody>\n",
       "</table>\n",
       "</div>"
      ],
      "text/plain": [
       "   prop_zip  count    pop   pop_adj  raw_rank\n",
       "21    14202     10   3003  3.330003        22\n",
       "2     14214     57  18125  3.144828         3\n",
       "1     14216     62  22371  2.771445         2\n",
       "36    14203      3   1310  2.290076        37\n",
       "7     14201     24  11155  2.151502         8\n",
       "0     14215     82  39007  2.102187         1\n",
       "15    14209     15   7197  2.084202        16\n",
       "6     14222     25  12218  2.046161         7\n",
       "3     14213     47  24022  1.956540         4\n",
       "14    14208     15   9768  1.535627        15"
      ]
     },
     "execution_count": 235,
     "metadata": {},
     "output_type": "execute_result"
    }
   ],
   "source": [
    "fs_zips_discrims.head(10)"
   ]
  },
  {
   "cell_type": "code",
   "execution_count": 236,
   "metadata": {},
   "outputs": [
    {
     "data": {
      "text/html": [
       "<div>\n",
       "<style scoped>\n",
       "    .dataframe tbody tr th:only-of-type {\n",
       "        vertical-align: middle;\n",
       "    }\n",
       "\n",
       "    .dataframe tbody tr th {\n",
       "        vertical-align: top;\n",
       "    }\n",
       "\n",
       "    .dataframe thead th {\n",
       "        text-align: right;\n",
       "    }\n",
       "</style>\n",
       "<table border=\"1\" class=\"dataframe\">\n",
       "  <thead>\n",
       "    <tr style=\"text-align: right;\">\n",
       "      <th></th>\n",
       "      <th>prop_zip</th>\n",
       "      <th>count</th>\n",
       "      <th>pop</th>\n",
       "      <th>pop_adj</th>\n",
       "      <th>raw_rank</th>\n",
       "    </tr>\n",
       "  </thead>\n",
       "  <tbody>\n",
       "    <tr>\n",
       "      <th>21</th>\n",
       "      <td>14202</td>\n",
       "      <td>11</td>\n",
       "      <td>3003</td>\n",
       "      <td>3.663004</td>\n",
       "      <td>22</td>\n",
       "    </tr>\n",
       "    <tr>\n",
       "      <th>15</th>\n",
       "      <td>14209</td>\n",
       "      <td>15</td>\n",
       "      <td>7197</td>\n",
       "      <td>2.084202</td>\n",
       "      <td>16</td>\n",
       "    </tr>\n",
       "    <tr>\n",
       "      <th>7</th>\n",
       "      <td>14201</td>\n",
       "      <td>23</td>\n",
       "      <td>11155</td>\n",
       "      <td>2.061856</td>\n",
       "      <td>8</td>\n",
       "    </tr>\n",
       "    <tr>\n",
       "      <th>1</th>\n",
       "      <td>14216</td>\n",
       "      <td>44</td>\n",
       "      <td>22371</td>\n",
       "      <td>1.966832</td>\n",
       "      <td>2</td>\n",
       "    </tr>\n",
       "    <tr>\n",
       "      <th>14</th>\n",
       "      <td>14208</td>\n",
       "      <td>19</td>\n",
       "      <td>9768</td>\n",
       "      <td>1.945127</td>\n",
       "      <td>15</td>\n",
       "    </tr>\n",
       "    <tr>\n",
       "      <th>6</th>\n",
       "      <td>14222</td>\n",
       "      <td>23</td>\n",
       "      <td>12218</td>\n",
       "      <td>1.882468</td>\n",
       "      <td>7</td>\n",
       "    </tr>\n",
       "    <tr>\n",
       "      <th>2</th>\n",
       "      <td>14214</td>\n",
       "      <td>31</td>\n",
       "      <td>18125</td>\n",
       "      <td>1.710345</td>\n",
       "      <td>3</td>\n",
       "    </tr>\n",
       "    <tr>\n",
       "      <th>36</th>\n",
       "      <td>14203</td>\n",
       "      <td>2</td>\n",
       "      <td>1310</td>\n",
       "      <td>1.526718</td>\n",
       "      <td>37</td>\n",
       "    </tr>\n",
       "    <tr>\n",
       "      <th>0</th>\n",
       "      <td>14215</td>\n",
       "      <td>48</td>\n",
       "      <td>39007</td>\n",
       "      <td>1.230548</td>\n",
       "      <td>1</td>\n",
       "    </tr>\n",
       "    <tr>\n",
       "      <th>18</th>\n",
       "      <td>14212</td>\n",
       "      <td>13</td>\n",
       "      <td>10574</td>\n",
       "      <td>1.229431</td>\n",
       "      <td>19</td>\n",
       "    </tr>\n",
       "  </tbody>\n",
       "</table>\n",
       "</div>"
      ],
      "text/plain": [
       "   prop_zip  count    pop   pop_adj  raw_rank\n",
       "21    14202     11   3003  3.663004        22\n",
       "15    14209     15   7197  2.084202        16\n",
       "7     14201     23  11155  2.061856         8\n",
       "1     14216     44  22371  1.966832         2\n",
       "14    14208     19   9768  1.945127        15\n",
       "6     14222     23  12218  1.882468         7\n",
       "2     14214     31  18125  1.710345         3\n",
       "36    14203      2   1310  1.526718        37\n",
       "0     14215     48  39007  1.230548         1\n",
       "18    14212     13  10574  1.229431        19"
      ]
     },
     "execution_count": 236,
     "metadata": {},
     "output_type": "execute_result"
    }
   ],
   "source": [
    "race_zips_discrims.head(10)"
   ]
  },
  {
   "cell_type": "code",
   "execution_count": 231,
   "metadata": {},
   "outputs": [
    {
     "name": "stdout",
     "output_type": "stream",
     "text": [
      "   prop_zip  count   pop    pop_adj  raw_rank\n",
      "21    14202     48  3003  15.984016        22\n",
      "36    14203     11  1310   8.396947        37\n",
      "15    14209     59  7197   8.197860        16\n",
      "   prop_zip  count    pop   pop_adj  raw_rank\n",
      "1     14216     69  22371  3.084350         2\n",
      "2     14214     55  18125  3.034483         3\n",
      "21    14202      9   3003  2.997003        22\n",
      "   prop_zip  count   pop   pop_adj  raw_rank\n",
      "21    14202     12  3003  3.996004        22\n",
      "36    14203      5  1310  3.816794        37\n",
      "15    14209     16  7197  2.223149        16\n",
      "   prop_zip  count    pop   pop_adj  raw_rank\n",
      "21    14202     10   3003  3.330003        22\n",
      "2     14214     57  18125  3.144828         3\n",
      "1     14216     62  22371  2.771445         2\n",
      "   prop_zip  count    pop   pop_adj  raw_rank\n",
      "21    14202     11   3003  3.663004        22\n",
      "15    14209     15   7197  2.084202        16\n",
      "7     14201     23  11155  2.061856         8\n"
     ]
    }
   ],
   "source": [
    "for df in bases_dfs:\n",
    "    df['raw_rank'] = df.index.values + 1\n",
    "    print(df.head(3))"
   ]
  },
  {
   "cell_type": "code",
   "execution_count": 237,
   "metadata": {},
   "outputs": [],
   "source": [
    "with pd.ExcelWriter('discrim_stats.xlsx') as writer:  \n",
    "    all_zips_discrims.to_excel(writer, sheet_name='overall')\n",
    "    soi_zips_discrims.to_excel(writer, sheet_name='SOI')\n",
    "    fs_zips_discrims.to_excel(writer, sheet_name='FS')\n",
    "    dis_zips_discrims.to_excel(writer, sheet_name='Disability')\n",
    "    race_zips_discrims.to_excel(writer, sheet_name='Race')"
   ]
  },
  {
   "cell_type": "code",
   "execution_count": 243,
   "metadata": {},
   "outputs": [
    {
     "name": "stdout",
     "output_type": "stream",
     "text": [
      "14215    230\n",
      "14216    168\n",
      "14214    144\n",
      "14213    132\n",
      "14207    124\n",
      "14211    106\n",
      "14222     90\n",
      "14201     89\n",
      "14226     78\n",
      "14228     76\n",
      "14225     76\n",
      "14206     74\n",
      "14075     66\n",
      "14220     65\n",
      "14208     62\n",
      "14209     59\n",
      "14217     58\n",
      "14224     55\n",
      "14212     52\n",
      "14221     50\n",
      "14210     48\n",
      "14202     48\n",
      "14150     45\n",
      "14120     41\n",
      "14227     41\n",
      "14218     35\n",
      "14043     29\n",
      "14094     26\n",
      "14223     24\n",
      "14204     24\n",
      "Name: prop_zip, dtype: int64\n",
      "14215    105\n",
      "14216     69\n",
      "14211     55\n",
      "14214     51\n",
      "14213     45\n",
      "14207     43\n",
      "14220     31\n",
      "14225     31\n",
      "14212     30\n",
      "14206     29\n",
      "14201     27\n",
      "14208     26\n",
      "14222     22\n",
      "14210     20\n",
      "14075     20\n",
      "14224     18\n",
      "14226     16\n",
      "14209     12\n",
      "14217     12\n",
      "14150     12\n",
      "14227      9\n",
      "14228      9\n",
      "14202      9\n",
      "14221      8\n",
      "14127      7\n",
      "14218      7\n",
      "14223      6\n",
      "14219      5\n",
      "14120      4\n",
      "14204      4\n",
      "Name: prop_zip, dtype: int64\n",
      "14215    82\n",
      "14214    62\n",
      "14216    57\n",
      "14213    47\n",
      "14207    33\n",
      "14226    31\n",
      "14222    25\n",
      "14211    24\n",
      "14208    22\n",
      "14217    20\n",
      "14228    20\n",
      "14120    19\n",
      "14206    16\n",
      "14201    15\n",
      "14221    15\n",
      "14075    15\n",
      "14209    14\n",
      "14220    13\n",
      "14224    12\n",
      "14212    10\n",
      "14225    10\n",
      "14150    10\n",
      "14218     7\n",
      "14210     7\n",
      "14043     7\n",
      "14052     6\n",
      "14304     6\n",
      "14227     6\n",
      "14094     6\n",
      "14202     5\n",
      "Name: prop_zip, dtype: int64\n",
      "14207    31\n",
      "14075    27\n",
      "14201    27\n",
      "14215    26\n",
      "14222    26\n",
      "14211    23\n",
      "14228    23\n",
      "14213    23\n",
      "14226    21\n",
      "14225    20\n",
      "14202    19\n",
      "14209    19\n",
      "14216    18\n",
      "14217    17\n",
      "14224    17\n",
      "14227    16\n",
      "14214    14\n",
      "14210    14\n",
      "14218    13\n",
      "14220    12\n",
      "14150    12\n",
      "14221    12\n",
      "14206    10\n",
      "14086     9\n",
      "14208     8\n",
      "14223     8\n",
      "14043     8\n",
      "14120     8\n",
      "14219     8\n",
      "14204     7\n",
      "Name: prop_zip, dtype: int64\n",
      "14216    48\n",
      "14215    44\n",
      "14207    31\n",
      "14206    29\n",
      "14228    27\n",
      "14214    26\n",
      "14225    23\n",
      "14222    23\n",
      "14221    22\n",
      "14201    21\n",
      "14220    20\n",
      "14213    20\n",
      "14217    20\n",
      "14226    19\n",
      "14150    19\n",
      "14224    15\n",
      "14227    14\n",
      "14210    13\n",
      "14209    13\n",
      "14211    12\n",
      "14218    12\n",
      "14223    11\n",
      "14212    11\n",
      "14094    11\n",
      "14120    11\n",
      "14043    11\n",
      "14075    10\n",
      "14202     9\n",
      "14304     8\n",
      "14072     6\n",
      "Name: prop_zip, dtype: int64\n"
     ]
    }
   ],
   "source": [
    "for df in [ovr_zips, soi_zips, fs_zips, dis_zips, race_zips]:\n",
    "    print(df.head(30))"
   ]
  },
  {
   "cell_type": "code",
   "execution_count": null,
   "metadata": {},
   "outputs": [],
   "source": []
  }
 ],
 "metadata": {
  "kernelspec": {
   "display_name": "Python 3",
   "language": "python",
   "name": "python3"
  },
  "language_info": {
   "codemirror_mode": {
    "name": "ipython",
    "version": 3
   },
   "file_extension": ".py",
   "mimetype": "text/x-python",
   "name": "python",
   "nbconvert_exporter": "python",
   "pygments_lexer": "ipython3",
   "version": "3.7.1"
  }
 },
 "nbformat": 4,
 "nbformat_minor": 2
}
